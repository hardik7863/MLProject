{
 "cells": [
  {
   "cell_type": "markdown",
   "metadata": {},
   "source": [
    "- .gitignore is created in github and select the python then it is pulled\n"
   ]
  },
  {
   "cell_type": "markdown",
   "metadata": {},
   "source": [
    "- In PyPI there are lots of packages which can be install \n",
    "\n",
    "- setup.py is responsible for creating ml application as package and which can be  install this package in our project and use it and deploy it on PyPI"
   ]
  },
  {
   "cell_type": "markdown",
   "metadata": {},
   "source": [
    "- create the source src folder and sub folders with __init__.py"
   ]
  },
  {
   "cell_type": "markdown",
   "metadata": {},
   "source": []
  }
 ],
 "metadata": {
  "language_info": {
   "name": "python"
  }
 },
 "nbformat": 4,
 "nbformat_minor": 2
}
